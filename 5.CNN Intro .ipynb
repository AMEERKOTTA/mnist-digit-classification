{
 "cells": [
  {
   "cell_type": "markdown",
   "metadata": {},
   "source": [
    "### Deep Learning"
   ]
  },
  {
   "cell_type": "markdown",
   "metadata": {},
   "source": [
    "Handwritten Digit classification will bw done by two Neural Network Methods which are\n",
    "\n",
    "+ Simple Multi-Layer Perceptron (MLP)\n",
    "\n",
    "+ Convolutional Neural Network (CNN)"
   ]
  },
  {
   "cell_type": "markdown",
   "metadata": {},
   "source": [
    "### Dataset:\n",
    "+ Dataset Used to Perform Handwritten Digit Classification is MNIST (http://yann.lecun.com/exdb/mnist/)"
   ]
  },
  {
   "cell_type": "markdown",
   "metadata": {},
   "source": [
    "### Deep Learning:\n",
    "+ Deep Learning is a Branch of Machine Learning, based on set of algorithms that attempts to model high-level abstractions in data by using multiple processing layers, with complex structures."
   ]
  },
  {
   "cell_type": "markdown",
   "metadata": {},
   "source": [
    "<img src=\"https://ibm.box.com/shared/static/gcbbrh440604cj2nksu3f44be87b8ank.png\" alt=\"HTML5 Icon\" style=\"width: 600px; height: 450px;\">\n",
    "<div style=\"text-align: center\">"
   ]
  },
  {
   "cell_type": "markdown",
   "metadata": {},
   "source": [
    "+ Deep means that studying a neural network which has several hidden layers, no matter what type (convolution, pooling, Normalization, fully-connected layer etc)\n",
    "\n",
    "+ Learning means, In the context of Supervised Learning, this problem is Handwritten digit Classification, The Learning part consists of target/feature which is to be predicted using a given set of observation with already known final prediction.\n",
    "\n",
    "+ In this case, targets will be the digits (0,1,2,3,4,5,6,7,8,9) and the observation are the intensity and relative position of the pixels\n",
    "\n",
    "+ After some training, its is possible to generate a function that maps input (digit image) to desired output (type of digit)\n",
    "\n",
    "+ Problem is how well is the map operation occurs\n",
    "\n",
    "+ While trying to Generate this function, the training process continues until the model achieve the desired level of accuracy on the training data."
   ]
  },
  {
   "cell_type": "code",
   "execution_count": null,
   "metadata": {},
   "outputs": [],
   "source": []
  }
 ],
 "metadata": {
  "kernelspec": {
   "display_name": "Python",
   "language": "python",
   "name": "conda-env-python-py"
  },
  "language_info": {
   "codemirror_mode": {
    "name": "ipython",
    "version": 3
   },
   "file_extension": ".py",
   "mimetype": "text/x-python",
   "name": "python",
   "nbconvert_exporter": "python",
   "pygments_lexer": "ipython3",
   "version": "3.6.11"
  }
 },
 "nbformat": 4,
 "nbformat_minor": 4
}
